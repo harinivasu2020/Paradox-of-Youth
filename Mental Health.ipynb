{
 "cells": [
  {
   "cell_type": "code",
   "execution_count": 16,
   "id": "0e623168",
   "metadata": {},
   "outputs": [],
   "source": [
    "import pandas as pd\n",
    "import numpy as np"
   ]
  },
  {
   "cell_type": "code",
   "execution_count": 17,
   "id": "17635702",
   "metadata": {},
   "outputs": [],
   "source": [
    "import matplotlib.pyplot as plt\n",
    "from sklearn.preprocessing import LabelEncoder"
   ]
  },
  {
   "cell_type": "code",
   "execution_count": 18,
   "id": "6a61f760",
   "metadata": {},
   "outputs": [],
   "source": [
    "df=pd.read_csv(\"survey.csv\")"
   ]
  },
  {
   "cell_type": "code",
   "execution_count": 19,
   "id": "a7e7a283",
   "metadata": {},
   "outputs": [
    {
     "data": {
      "text/plain": [
       "Age                                          27\n",
       "Gender                                   Female\n",
       "Self Employed                                No\n",
       "family history of mental health             Yes\n",
       "Prior Treatment                             Yes\n",
       "Work Pressure                         Sometimes\n",
       "Sleep                                         7\n",
       "Remote Work                                  No\n",
       "Tech company                                Yes\n",
       "Social Status                            Middle\n",
       "Caretakers available                         No\n",
       "Will you seek help                           No\n",
       "leave                                 Very easy\n",
       "supervisor                         Some of them\n",
       "Mental health data taken                     No\n",
       "Physical health data taken                   No\n",
       "Output                                        3\n",
       "Name: 200, dtype: object"
      ]
     },
     "execution_count": 19,
     "metadata": {},
     "output_type": "execute_result"
    }
   ],
   "source": [
    "df.iloc[200]"
   ]
  },
  {
   "cell_type": "code",
   "execution_count": 20,
   "id": "655e93dd",
   "metadata": {},
   "outputs": [
    {
     "data": {
      "text/plain": [
       "Male           354\n",
       "Female          82\n",
       "Gay             24\n",
       "Lesbian         22\n",
       "Transgender      9\n",
       "Bisexual         8\n",
       "Male             1\n",
       "Name: Gender, dtype: int64"
      ]
     },
     "execution_count": 20,
     "metadata": {},
     "output_type": "execute_result"
    }
   ],
   "source": [
    "df['Gender'].value_counts()"
   ]
  },
  {
   "cell_type": "code",
   "execution_count": 21,
   "id": "8d401103",
   "metadata": {},
   "outputs": [
    {
     "name": "stdout",
     "output_type": "stream",
     "text": [
      "Size has been converted to numeric values\n"
     ]
    }
   ],
   "source": [
    "df.isnull().sum()\n",
    "from sklearn.preprocessing import LabelEncoder\n",
    "enc=LabelEncoder()\n",
    "df['Self Employed']=enc.fit_transform(df['Self Employed'])\n",
    "df['Work Pressure']=enc.fit_transform(df['Work Pressure'])\n",
    "df['Gender']=enc.fit_transform(df['Gender'])\n",
    "df['family history of mental health']=enc.fit_transform(df['family history of mental health'])\n",
    "df['Prior Treatment']=enc.fit_transform(df['Prior Treatment'])\n",
    "df['Remote Work']=enc.fit_transform(df['Remote Work'])\n",
    "df['Tech company']=enc.fit_transform(df['Tech company'])\n",
    "df['Social Status']=enc.fit_transform(df['Social Status'])\n",
    "df['Caretakers available']=enc.fit_transform(df['Caretakers available'])\n",
    "df['Will you seek help']=enc.fit_transform(df['Will you seek help'])\n",
    "df['leave']=enc.fit_transform(df['leave'])\n",
    "df['supervisor']=enc.fit_transform(df['supervisor'])\n",
    "df['Mental health data taken']=enc.fit_transform(df['Mental health data taken'])\n",
    "df['Physical health data taken']=enc.fit_transform(df['Physical health data taken'])\n",
    "print('Size has been converted to numeric values')"
   ]
  },
  {
   "cell_type": "code",
   "execution_count": 22,
   "id": "a534bd09",
   "metadata": {},
   "outputs": [],
   "source": [
    "df['Self Employed'].fillna(df['Self Employed'].mean(),inplace=True)\n",
    "df['Work Pressure'].fillna(df['Work Pressure'].mean(),inplace=True)\n"
   ]
  },
  {
   "cell_type": "code",
   "execution_count": 23,
   "id": "5429cd2d",
   "metadata": {},
   "outputs": [
    {
     "data": {
      "text/plain": [
       "Age                                0\n",
       "Gender                             0\n",
       "Self Employed                      0\n",
       "family history of mental health    0\n",
       "Prior Treatment                    0\n",
       "Work Pressure                      0\n",
       "Sleep                              0\n",
       "Remote Work                        0\n",
       "Tech company                       0\n",
       "Social Status                      0\n",
       "Caretakers available               0\n",
       "Will you seek help                 0\n",
       "leave                              0\n",
       "supervisor                         0\n",
       "Mental health data taken           0\n",
       "Physical health data taken         0\n",
       "Output                             0\n",
       "dtype: int64"
      ]
     },
     "execution_count": 23,
     "metadata": {},
     "output_type": "execute_result"
    }
   ],
   "source": [
    "df.isnull().sum()"
   ]
  },
  {
   "cell_type": "code",
   "execution_count": 24,
   "id": "a2acf1bd",
   "metadata": {},
   "outputs": [
    {
     "data": {
      "text/html": [
       "<div>\n",
       "<style scoped>\n",
       "    .dataframe tbody tr th:only-of-type {\n",
       "        vertical-align: middle;\n",
       "    }\n",
       "\n",
       "    .dataframe tbody tr th {\n",
       "        vertical-align: top;\n",
       "    }\n",
       "\n",
       "    .dataframe thead th {\n",
       "        text-align: right;\n",
       "    }\n",
       "</style>\n",
       "<table border=\"1\" class=\"dataframe\">\n",
       "  <thead>\n",
       "    <tr style=\"text-align: right;\">\n",
       "      <th></th>\n",
       "      <th>Age</th>\n",
       "      <th>Gender</th>\n",
       "      <th>Self Employed</th>\n",
       "      <th>family history of mental health</th>\n",
       "      <th>Prior Treatment</th>\n",
       "      <th>Work Pressure</th>\n",
       "      <th>Sleep</th>\n",
       "      <th>Remote Work</th>\n",
       "      <th>Tech company</th>\n",
       "      <th>Social Status</th>\n",
       "      <th>Caretakers available</th>\n",
       "      <th>Will you seek help</th>\n",
       "      <th>leave</th>\n",
       "      <th>supervisor</th>\n",
       "      <th>Mental health data taken</th>\n",
       "      <th>Physical health data taken</th>\n",
       "      <th>Output</th>\n",
       "    </tr>\n",
       "  </thead>\n",
       "  <tbody>\n",
       "    <tr>\n",
       "      <th>0</th>\n",
       "      <td>37</td>\n",
       "      <td>1</td>\n",
       "      <td>2</td>\n",
       "      <td>0</td>\n",
       "      <td>1</td>\n",
       "      <td>1</td>\n",
       "      <td>6</td>\n",
       "      <td>0</td>\n",
       "      <td>1</td>\n",
       "      <td>0</td>\n",
       "      <td>1</td>\n",
       "      <td>2</td>\n",
       "      <td>2</td>\n",
       "      <td>2</td>\n",
       "      <td>1</td>\n",
       "      <td>0</td>\n",
       "      <td>2</td>\n",
       "    </tr>\n",
       "    <tr>\n",
       "      <th>1</th>\n",
       "      <td>44</td>\n",
       "      <td>3</td>\n",
       "      <td>2</td>\n",
       "      <td>0</td>\n",
       "      <td>0</td>\n",
       "      <td>2</td>\n",
       "      <td>7</td>\n",
       "      <td>0</td>\n",
       "      <td>0</td>\n",
       "      <td>0</td>\n",
       "      <td>0</td>\n",
       "      <td>0</td>\n",
       "      <td>0</td>\n",
       "      <td>0</td>\n",
       "      <td>1</td>\n",
       "      <td>1</td>\n",
       "      <td>3</td>\n",
       "    </tr>\n",
       "    <tr>\n",
       "      <th>2</th>\n",
       "      <td>32</td>\n",
       "      <td>4</td>\n",
       "      <td>2</td>\n",
       "      <td>0</td>\n",
       "      <td>0</td>\n",
       "      <td>2</td>\n",
       "      <td>10</td>\n",
       "      <td>0</td>\n",
       "      <td>1</td>\n",
       "      <td>2</td>\n",
       "      <td>0</td>\n",
       "      <td>1</td>\n",
       "      <td>1</td>\n",
       "      <td>2</td>\n",
       "      <td>2</td>\n",
       "      <td>2</td>\n",
       "      <td>2</td>\n",
       "    </tr>\n",
       "    <tr>\n",
       "      <th>3</th>\n",
       "      <td>31</td>\n",
       "      <td>4</td>\n",
       "      <td>2</td>\n",
       "      <td>1</td>\n",
       "      <td>1</td>\n",
       "      <td>1</td>\n",
       "      <td>5</td>\n",
       "      <td>0</td>\n",
       "      <td>1</td>\n",
       "      <td>1</td>\n",
       "      <td>2</td>\n",
       "      <td>1</td>\n",
       "      <td>1</td>\n",
       "      <td>0</td>\n",
       "      <td>0</td>\n",
       "      <td>0</td>\n",
       "      <td>1</td>\n",
       "    </tr>\n",
       "    <tr>\n",
       "      <th>4</th>\n",
       "      <td>31</td>\n",
       "      <td>4</td>\n",
       "      <td>2</td>\n",
       "      <td>0</td>\n",
       "      <td>0</td>\n",
       "      <td>0</td>\n",
       "      <td>9</td>\n",
       "      <td>1</td>\n",
       "      <td>1</td>\n",
       "      <td>2</td>\n",
       "      <td>0</td>\n",
       "      <td>0</td>\n",
       "      <td>0</td>\n",
       "      <td>2</td>\n",
       "      <td>2</td>\n",
       "      <td>2</td>\n",
       "      <td>3</td>\n",
       "    </tr>\n",
       "    <tr>\n",
       "      <th>...</th>\n",
       "      <td>...</td>\n",
       "      <td>...</td>\n",
       "      <td>...</td>\n",
       "      <td>...</td>\n",
       "      <td>...</td>\n",
       "      <td>...</td>\n",
       "      <td>...</td>\n",
       "      <td>...</td>\n",
       "      <td>...</td>\n",
       "      <td>...</td>\n",
       "      <td>...</td>\n",
       "      <td>...</td>\n",
       "      <td>...</td>\n",
       "      <td>...</td>\n",
       "      <td>...</td>\n",
       "      <td>...</td>\n",
       "      <td>...</td>\n",
       "    </tr>\n",
       "    <tr>\n",
       "      <th>495</th>\n",
       "      <td>32</td>\n",
       "      <td>4</td>\n",
       "      <td>0</td>\n",
       "      <td>0</td>\n",
       "      <td>0</td>\n",
       "      <td>4</td>\n",
       "      <td>10</td>\n",
       "      <td>0</td>\n",
       "      <td>1</td>\n",
       "      <td>1</td>\n",
       "      <td>0</td>\n",
       "      <td>1</td>\n",
       "      <td>0</td>\n",
       "      <td>0</td>\n",
       "      <td>1</td>\n",
       "      <td>2</td>\n",
       "      <td>3</td>\n",
       "    </tr>\n",
       "    <tr>\n",
       "      <th>496</th>\n",
       "      <td>32</td>\n",
       "      <td>4</td>\n",
       "      <td>0</td>\n",
       "      <td>0</td>\n",
       "      <td>1</td>\n",
       "      <td>3</td>\n",
       "      <td>6</td>\n",
       "      <td>0</td>\n",
       "      <td>0</td>\n",
       "      <td>1</td>\n",
       "      <td>2</td>\n",
       "      <td>1</td>\n",
       "      <td>4</td>\n",
       "      <td>2</td>\n",
       "      <td>1</td>\n",
       "      <td>1</td>\n",
       "      <td>3</td>\n",
       "    </tr>\n",
       "    <tr>\n",
       "      <th>497</th>\n",
       "      <td>37</td>\n",
       "      <td>4</td>\n",
       "      <td>0</td>\n",
       "      <td>0</td>\n",
       "      <td>0</td>\n",
       "      <td>4</td>\n",
       "      <td>7</td>\n",
       "      <td>0</td>\n",
       "      <td>1</td>\n",
       "      <td>2</td>\n",
       "      <td>0</td>\n",
       "      <td>1</td>\n",
       "      <td>2</td>\n",
       "      <td>1</td>\n",
       "      <td>1</td>\n",
       "      <td>0</td>\n",
       "      <td>2</td>\n",
       "    </tr>\n",
       "    <tr>\n",
       "      <th>498</th>\n",
       "      <td>39</td>\n",
       "      <td>3</td>\n",
       "      <td>0</td>\n",
       "      <td>0</td>\n",
       "      <td>0</td>\n",
       "      <td>4</td>\n",
       "      <td>9</td>\n",
       "      <td>1</td>\n",
       "      <td>0</td>\n",
       "      <td>0</td>\n",
       "      <td>2</td>\n",
       "      <td>1</td>\n",
       "      <td>3</td>\n",
       "      <td>0</td>\n",
       "      <td>1</td>\n",
       "      <td>0</td>\n",
       "      <td>2</td>\n",
       "    </tr>\n",
       "    <tr>\n",
       "      <th>499</th>\n",
       "      <td>31</td>\n",
       "      <td>4</td>\n",
       "      <td>0</td>\n",
       "      <td>0</td>\n",
       "      <td>0</td>\n",
       "      <td>4</td>\n",
       "      <td>8</td>\n",
       "      <td>0</td>\n",
       "      <td>1</td>\n",
       "      <td>0</td>\n",
       "      <td>0</td>\n",
       "      <td>0</td>\n",
       "      <td>0</td>\n",
       "      <td>0</td>\n",
       "      <td>1</td>\n",
       "      <td>1</td>\n",
       "      <td>3</td>\n",
       "    </tr>\n",
       "  </tbody>\n",
       "</table>\n",
       "<p>500 rows × 17 columns</p>\n",
       "</div>"
      ],
      "text/plain": [
       "     Age  Gender  Self Employed  family history of mental health  \\\n",
       "0     37       1              2                                0   \n",
       "1     44       3              2                                0   \n",
       "2     32       4              2                                0   \n",
       "3     31       4              2                                1   \n",
       "4     31       4              2                                0   \n",
       "..   ...     ...            ...                              ...   \n",
       "495   32       4              0                                0   \n",
       "496   32       4              0                                0   \n",
       "497   37       4              0                                0   \n",
       "498   39       3              0                                0   \n",
       "499   31       4              0                                0   \n",
       "\n",
       "     Prior Treatment  Work Pressure  Sleep  Remote Work  Tech company  \\\n",
       "0                  1              1      6            0             1   \n",
       "1                  0              2      7            0             0   \n",
       "2                  0              2     10            0             1   \n",
       "3                  1              1      5            0             1   \n",
       "4                  0              0      9            1             1   \n",
       "..               ...            ...    ...          ...           ...   \n",
       "495                0              4     10            0             1   \n",
       "496                1              3      6            0             0   \n",
       "497                0              4      7            0             1   \n",
       "498                0              4      9            1             0   \n",
       "499                0              4      8            0             1   \n",
       "\n",
       "     Social Status  Caretakers available  Will you seek help  leave  \\\n",
       "0                0                     1                   2      2   \n",
       "1                0                     0                   0      0   \n",
       "2                2                     0                   1      1   \n",
       "3                1                     2                   1      1   \n",
       "4                2                     0                   0      0   \n",
       "..             ...                   ...                 ...    ...   \n",
       "495              1                     0                   1      0   \n",
       "496              1                     2                   1      4   \n",
       "497              2                     0                   1      2   \n",
       "498              0                     2                   1      3   \n",
       "499              0                     0                   0      0   \n",
       "\n",
       "     supervisor  Mental health data taken  Physical health data taken  Output  \n",
       "0             2                         1                           0       2  \n",
       "1             0                         1                           1       3  \n",
       "2             2                         2                           2       2  \n",
       "3             0                         0                           0       1  \n",
       "4             2                         2                           2       3  \n",
       "..          ...                       ...                         ...     ...  \n",
       "495           0                         1                           2       3  \n",
       "496           2                         1                           1       3  \n",
       "497           1                         1                           0       2  \n",
       "498           0                         1                           0       2  \n",
       "499           0                         1                           1       3  \n",
       "\n",
       "[500 rows x 17 columns]"
      ]
     },
     "execution_count": 24,
     "metadata": {},
     "output_type": "execute_result"
    }
   ],
   "source": [
    "df"
   ]
  },
  {
   "cell_type": "code",
   "execution_count": 25,
   "id": "7230a376",
   "metadata": {},
   "outputs": [
    {
     "data": {
      "text/html": [
       "<div>\n",
       "<style scoped>\n",
       "    .dataframe tbody tr th:only-of-type {\n",
       "        vertical-align: middle;\n",
       "    }\n",
       "\n",
       "    .dataframe tbody tr th {\n",
       "        vertical-align: top;\n",
       "    }\n",
       "\n",
       "    .dataframe thead th {\n",
       "        text-align: right;\n",
       "    }\n",
       "</style>\n",
       "<table border=\"1\" class=\"dataframe\">\n",
       "  <thead>\n",
       "    <tr style=\"text-align: right;\">\n",
       "      <th></th>\n",
       "      <th>Age</th>\n",
       "      <th>Gender</th>\n",
       "      <th>Self Employed</th>\n",
       "      <th>family history of mental health</th>\n",
       "      <th>Prior Treatment</th>\n",
       "      <th>Work Pressure</th>\n",
       "      <th>Sleep</th>\n",
       "      <th>Remote Work</th>\n",
       "      <th>Tech company</th>\n",
       "      <th>Social Status</th>\n",
       "      <th>Caretakers available</th>\n",
       "      <th>Will you seek help</th>\n",
       "      <th>leave</th>\n",
       "      <th>supervisor</th>\n",
       "      <th>Mental health data taken</th>\n",
       "      <th>Physical health data taken</th>\n",
       "      <th>Output</th>\n",
       "    </tr>\n",
       "  </thead>\n",
       "  <tbody>\n",
       "    <tr>\n",
       "      <th>0</th>\n",
       "      <td>37</td>\n",
       "      <td>1</td>\n",
       "      <td>2</td>\n",
       "      <td>0</td>\n",
       "      <td>1</td>\n",
       "      <td>1</td>\n",
       "      <td>6</td>\n",
       "      <td>0</td>\n",
       "      <td>1</td>\n",
       "      <td>0</td>\n",
       "      <td>1</td>\n",
       "      <td>2</td>\n",
       "      <td>2</td>\n",
       "      <td>2</td>\n",
       "      <td>1</td>\n",
       "      <td>0</td>\n",
       "      <td>2</td>\n",
       "    </tr>\n",
       "    <tr>\n",
       "      <th>1</th>\n",
       "      <td>44</td>\n",
       "      <td>3</td>\n",
       "      <td>2</td>\n",
       "      <td>0</td>\n",
       "      <td>0</td>\n",
       "      <td>2</td>\n",
       "      <td>7</td>\n",
       "      <td>0</td>\n",
       "      <td>0</td>\n",
       "      <td>0</td>\n",
       "      <td>0</td>\n",
       "      <td>0</td>\n",
       "      <td>0</td>\n",
       "      <td>0</td>\n",
       "      <td>1</td>\n",
       "      <td>1</td>\n",
       "      <td>3</td>\n",
       "    </tr>\n",
       "    <tr>\n",
       "      <th>2</th>\n",
       "      <td>32</td>\n",
       "      <td>4</td>\n",
       "      <td>2</td>\n",
       "      <td>0</td>\n",
       "      <td>0</td>\n",
       "      <td>2</td>\n",
       "      <td>10</td>\n",
       "      <td>0</td>\n",
       "      <td>1</td>\n",
       "      <td>2</td>\n",
       "      <td>0</td>\n",
       "      <td>1</td>\n",
       "      <td>1</td>\n",
       "      <td>2</td>\n",
       "      <td>2</td>\n",
       "      <td>2</td>\n",
       "      <td>2</td>\n",
       "    </tr>\n",
       "    <tr>\n",
       "      <th>3</th>\n",
       "      <td>31</td>\n",
       "      <td>4</td>\n",
       "      <td>2</td>\n",
       "      <td>1</td>\n",
       "      <td>1</td>\n",
       "      <td>1</td>\n",
       "      <td>5</td>\n",
       "      <td>0</td>\n",
       "      <td>1</td>\n",
       "      <td>1</td>\n",
       "      <td>2</td>\n",
       "      <td>1</td>\n",
       "      <td>1</td>\n",
       "      <td>0</td>\n",
       "      <td>0</td>\n",
       "      <td>0</td>\n",
       "      <td>1</td>\n",
       "    </tr>\n",
       "    <tr>\n",
       "      <th>4</th>\n",
       "      <td>31</td>\n",
       "      <td>4</td>\n",
       "      <td>2</td>\n",
       "      <td>0</td>\n",
       "      <td>0</td>\n",
       "      <td>0</td>\n",
       "      <td>9</td>\n",
       "      <td>1</td>\n",
       "      <td>1</td>\n",
       "      <td>2</td>\n",
       "      <td>0</td>\n",
       "      <td>0</td>\n",
       "      <td>0</td>\n",
       "      <td>2</td>\n",
       "      <td>2</td>\n",
       "      <td>2</td>\n",
       "      <td>3</td>\n",
       "    </tr>\n",
       "    <tr>\n",
       "      <th>...</th>\n",
       "      <td>...</td>\n",
       "      <td>...</td>\n",
       "      <td>...</td>\n",
       "      <td>...</td>\n",
       "      <td>...</td>\n",
       "      <td>...</td>\n",
       "      <td>...</td>\n",
       "      <td>...</td>\n",
       "      <td>...</td>\n",
       "      <td>...</td>\n",
       "      <td>...</td>\n",
       "      <td>...</td>\n",
       "      <td>...</td>\n",
       "      <td>...</td>\n",
       "      <td>...</td>\n",
       "      <td>...</td>\n",
       "      <td>...</td>\n",
       "    </tr>\n",
       "    <tr>\n",
       "      <th>495</th>\n",
       "      <td>32</td>\n",
       "      <td>4</td>\n",
       "      <td>0</td>\n",
       "      <td>0</td>\n",
       "      <td>0</td>\n",
       "      <td>4</td>\n",
       "      <td>10</td>\n",
       "      <td>0</td>\n",
       "      <td>1</td>\n",
       "      <td>1</td>\n",
       "      <td>0</td>\n",
       "      <td>1</td>\n",
       "      <td>0</td>\n",
       "      <td>0</td>\n",
       "      <td>1</td>\n",
       "      <td>2</td>\n",
       "      <td>3</td>\n",
       "    </tr>\n",
       "    <tr>\n",
       "      <th>496</th>\n",
       "      <td>32</td>\n",
       "      <td>4</td>\n",
       "      <td>0</td>\n",
       "      <td>0</td>\n",
       "      <td>1</td>\n",
       "      <td>3</td>\n",
       "      <td>6</td>\n",
       "      <td>0</td>\n",
       "      <td>0</td>\n",
       "      <td>1</td>\n",
       "      <td>2</td>\n",
       "      <td>1</td>\n",
       "      <td>4</td>\n",
       "      <td>2</td>\n",
       "      <td>1</td>\n",
       "      <td>1</td>\n",
       "      <td>3</td>\n",
       "    </tr>\n",
       "    <tr>\n",
       "      <th>497</th>\n",
       "      <td>37</td>\n",
       "      <td>4</td>\n",
       "      <td>0</td>\n",
       "      <td>0</td>\n",
       "      <td>0</td>\n",
       "      <td>4</td>\n",
       "      <td>7</td>\n",
       "      <td>0</td>\n",
       "      <td>1</td>\n",
       "      <td>2</td>\n",
       "      <td>0</td>\n",
       "      <td>1</td>\n",
       "      <td>2</td>\n",
       "      <td>1</td>\n",
       "      <td>1</td>\n",
       "      <td>0</td>\n",
       "      <td>2</td>\n",
       "    </tr>\n",
       "    <tr>\n",
       "      <th>498</th>\n",
       "      <td>39</td>\n",
       "      <td>3</td>\n",
       "      <td>0</td>\n",
       "      <td>0</td>\n",
       "      <td>0</td>\n",
       "      <td>4</td>\n",
       "      <td>9</td>\n",
       "      <td>1</td>\n",
       "      <td>0</td>\n",
       "      <td>0</td>\n",
       "      <td>2</td>\n",
       "      <td>1</td>\n",
       "      <td>3</td>\n",
       "      <td>0</td>\n",
       "      <td>1</td>\n",
       "      <td>0</td>\n",
       "      <td>2</td>\n",
       "    </tr>\n",
       "    <tr>\n",
       "      <th>499</th>\n",
       "      <td>31</td>\n",
       "      <td>4</td>\n",
       "      <td>0</td>\n",
       "      <td>0</td>\n",
       "      <td>0</td>\n",
       "      <td>4</td>\n",
       "      <td>8</td>\n",
       "      <td>0</td>\n",
       "      <td>1</td>\n",
       "      <td>0</td>\n",
       "      <td>0</td>\n",
       "      <td>0</td>\n",
       "      <td>0</td>\n",
       "      <td>0</td>\n",
       "      <td>1</td>\n",
       "      <td>1</td>\n",
       "      <td>3</td>\n",
       "    </tr>\n",
       "  </tbody>\n",
       "</table>\n",
       "<p>500 rows × 17 columns</p>\n",
       "</div>"
      ],
      "text/plain": [
       "     Age  Gender  Self Employed  family history of mental health  \\\n",
       "0     37       1              2                                0   \n",
       "1     44       3              2                                0   \n",
       "2     32       4              2                                0   \n",
       "3     31       4              2                                1   \n",
       "4     31       4              2                                0   \n",
       "..   ...     ...            ...                              ...   \n",
       "495   32       4              0                                0   \n",
       "496   32       4              0                                0   \n",
       "497   37       4              0                                0   \n",
       "498   39       3              0                                0   \n",
       "499   31       4              0                                0   \n",
       "\n",
       "     Prior Treatment  Work Pressure  Sleep  Remote Work  Tech company  \\\n",
       "0                  1              1      6            0             1   \n",
       "1                  0              2      7            0             0   \n",
       "2                  0              2     10            0             1   \n",
       "3                  1              1      5            0             1   \n",
       "4                  0              0      9            1             1   \n",
       "..               ...            ...    ...          ...           ...   \n",
       "495                0              4     10            0             1   \n",
       "496                1              3      6            0             0   \n",
       "497                0              4      7            0             1   \n",
       "498                0              4      9            1             0   \n",
       "499                0              4      8            0             1   \n",
       "\n",
       "     Social Status  Caretakers available  Will you seek help  leave  \\\n",
       "0                0                     1                   2      2   \n",
       "1                0                     0                   0      0   \n",
       "2                2                     0                   1      1   \n",
       "3                1                     2                   1      1   \n",
       "4                2                     0                   0      0   \n",
       "..             ...                   ...                 ...    ...   \n",
       "495              1                     0                   1      0   \n",
       "496              1                     2                   1      4   \n",
       "497              2                     0                   1      2   \n",
       "498              0                     2                   1      3   \n",
       "499              0                     0                   0      0   \n",
       "\n",
       "     supervisor  Mental health data taken  Physical health data taken  Output  \n",
       "0             2                         1                           0       2  \n",
       "1             0                         1                           1       3  \n",
       "2             2                         2                           2       2  \n",
       "3             0                         0                           0       1  \n",
       "4             2                         2                           2       3  \n",
       "..          ...                       ...                         ...     ...  \n",
       "495           0                         1                           2       3  \n",
       "496           2                         1                           1       3  \n",
       "497           1                         1                           0       2  \n",
       "498           0                         1                           0       2  \n",
       "499           0                         1                           1       3  \n",
       "\n",
       "[500 rows x 17 columns]"
      ]
     },
     "execution_count": 25,
     "metadata": {},
     "output_type": "execute_result"
    }
   ],
   "source": [
    "df"
   ]
  },
  {
   "cell_type": "code",
   "execution_count": 26,
   "id": "434da6f1",
   "metadata": {},
   "outputs": [],
   "source": [
    "x=df.drop(columns='Output')\n",
    "y=df['Output']"
   ]
  },
  {
   "cell_type": "code",
   "execution_count": 27,
   "id": "84ff5741",
   "metadata": {},
   "outputs": [],
   "source": [
    "from sklearn.model_selection import train_test_split\n",
    "x_train,x_test,y_train,y_test=train_test_split(x,y,test_size=0.2,random_state=12)"
   ]
  },
  {
   "cell_type": "code",
   "execution_count": 28,
   "id": "8e0331ed",
   "metadata": {},
   "outputs": [
    {
     "name": "stdout",
     "output_type": "stream",
     "text": [
      "(400, 16) (100, 16) (400,)\n"
     ]
    }
   ],
   "source": [
    "print(x_train.shape,x_test.shape,y_train.shape)"
   ]
  },
  {
   "cell_type": "code",
   "execution_count": 29,
   "id": "3d30d7e9",
   "metadata": {},
   "outputs": [],
   "source": [
    "import xgboost as xgb"
   ]
  },
  {
   "cell_type": "code",
   "execution_count": 30,
   "id": "afac176c",
   "metadata": {},
   "outputs": [],
   "source": [
    "xgb_crop= xgb.XGBClassifier(learning_rate=0.5,n_estimators=150,objective='multi:softprob',random_state=12,gamma=280)"
   ]
  },
  {
   "cell_type": "code",
   "execution_count": 31,
   "id": "c2fcec64",
   "metadata": {},
   "outputs": [
    {
     "name": "stderr",
     "output_type": "stream",
     "text": [
      "E:\\anaconda\\lib\\site-packages\\xgboost\\sklearn.py:1224: UserWarning: The use of label encoder in XGBClassifier is deprecated and will be removed in a future release. To remove this warning, do the following: 1) Pass option use_label_encoder=False when constructing XGBClassifier object; and 2) Encode your labels (y) as integers starting with 0, i.e. 0, 1, 2, ..., [num_class - 1].\n",
      "  warnings.warn(label_encoder_deprecation_msg, UserWarning)\n"
     ]
    },
    {
     "name": "stdout",
     "output_type": "stream",
     "text": [
      "[22:09:00] WARNING: C:/Users/Administrator/workspace/xgboost-win64_release_1.5.1/src/learner.cc:1115: Starting in XGBoost 1.3.0, the default evaluation metric used with the objective 'multi:softprob' was changed from 'merror' to 'mlogloss'. Explicitly set eval_metric if you'd like to restore the old behavior.\n"
     ]
    },
    {
     "data": {
      "text/plain": [
       "XGBClassifier(base_score=0.5, booster='gbtree', colsample_bylevel=1,\n",
       "              colsample_bynode=1, colsample_bytree=1, enable_categorical=False,\n",
       "              gamma=280, gpu_id=-1, importance_type=None,\n",
       "              interaction_constraints='', learning_rate=0.5, max_delta_step=0,\n",
       "              max_depth=6, min_child_weight=1, missing=nan,\n",
       "              monotone_constraints='()', n_estimators=150, n_jobs=8,\n",
       "              num_parallel_tree=1, objective='multi:softprob', predictor='auto',\n",
       "              random_state=12, reg_alpha=0, reg_lambda=1, scale_pos_weight=None,\n",
       "              subsample=1, tree_method='exact', validate_parameters=1,\n",
       "              verbosity=None)"
      ]
     },
     "execution_count": 31,
     "metadata": {},
     "output_type": "execute_result"
    }
   ],
   "source": [
    "xgb_crop.fit(x_train.values,y_train.values)"
   ]
  },
  {
   "cell_type": "code",
   "execution_count": 32,
   "id": "bd9106f4",
   "metadata": {},
   "outputs": [],
   "source": [
    "from sklearn.metrics import classification_report,confusion_matrix,accuracy_score"
   ]
  },
  {
   "cell_type": "code",
   "execution_count": 33,
   "id": "853bf1a4",
   "metadata": {},
   "outputs": [],
   "source": [
    "y_pred=xgb_crop.predict(x_test.values)"
   ]
  },
  {
   "cell_type": "code",
   "execution_count": 34,
   "id": "b318c68f",
   "metadata": {},
   "outputs": [
    {
     "data": {
      "text/plain": [
       "array([[ 0,  0, 22],\n",
       "       [ 0,  0, 36],\n",
       "       [ 0,  0, 42]], dtype=int64)"
      ]
     },
     "execution_count": 34,
     "metadata": {},
     "output_type": "execute_result"
    }
   ],
   "source": [
    "confusion_matrix(y_test,y_pred)"
   ]
  },
  {
   "cell_type": "code",
   "execution_count": 35,
   "id": "0f326b92",
   "metadata": {},
   "outputs": [
    {
     "name": "stdout",
     "output_type": "stream",
     "text": [
      "              precision    recall  f1-score   support\n",
      "\n",
      "           1       0.00      0.00      0.00        22\n",
      "           2       0.00      0.00      0.00        36\n",
      "           3       0.42      1.00      0.59        42\n",
      "\n",
      "    accuracy                           0.42       100\n",
      "   macro avg       0.14      0.33      0.20       100\n",
      "weighted avg       0.18      0.42      0.25       100\n",
      "\n"
     ]
    },
    {
     "name": "stderr",
     "output_type": "stream",
     "text": [
      "E:\\anaconda\\lib\\site-packages\\sklearn\\metrics\\_classification.py:1245: UndefinedMetricWarning: Precision and F-score are ill-defined and being set to 0.0 in labels with no predicted samples. Use `zero_division` parameter to control this behavior.\n",
      "  _warn_prf(average, modifier, msg_start, len(result))\n",
      "E:\\anaconda\\lib\\site-packages\\sklearn\\metrics\\_classification.py:1245: UndefinedMetricWarning: Precision and F-score are ill-defined and being set to 0.0 in labels with no predicted samples. Use `zero_division` parameter to control this behavior.\n",
      "  _warn_prf(average, modifier, msg_start, len(result))\n",
      "E:\\anaconda\\lib\\site-packages\\sklearn\\metrics\\_classification.py:1245: UndefinedMetricWarning: Precision and F-score are ill-defined and being set to 0.0 in labels with no predicted samples. Use `zero_division` parameter to control this behavior.\n",
      "  _warn_prf(average, modifier, msg_start, len(result))\n"
     ]
    }
   ],
   "source": [
    "print(classification_report(y_test,y_pred))"
   ]
  },
  {
   "cell_type": "code",
   "execution_count": 36,
   "id": "0d17248f",
   "metadata": {},
   "outputs": [
    {
     "data": {
      "text/plain": [
       "RandomForestClassifier(criterion='entropy', n_estimators=200, n_jobs=-1,\n",
       "                       random_state=12)"
      ]
     },
     "execution_count": 36,
     "metadata": {},
     "output_type": "execute_result"
    }
   ],
   "source": [
    "from sklearn.ensemble import RandomForestClassifier\n",
    "rdf_clf=RandomForestClassifier(criterion='entropy',n_estimators=200,n_jobs=-1,random_state=12)\n",
    "rdf_clf.fit(x_train,y_train)"
   ]
  },
  {
   "cell_type": "code",
   "execution_count": 37,
   "id": "316872f7",
   "metadata": {},
   "outputs": [],
   "source": [
    "y_pred_rf=rdf_clf.predict(x_test)"
   ]
  },
  {
   "cell_type": "code",
   "execution_count": 38,
   "id": "970d5a67",
   "metadata": {},
   "outputs": [
    {
     "name": "stdout",
     "output_type": "stream",
     "text": [
      "[[11  6  5]\n",
      " [ 4 14 18]\n",
      " [ 5 12 25]]\n"
     ]
    }
   ],
   "source": [
    "print(confusion_matrix(y_test,y_pred_rf))"
   ]
  },
  {
   "cell_type": "code",
   "execution_count": 39,
   "id": "b9e38405",
   "metadata": {},
   "outputs": [
    {
     "name": "stdout",
     "output_type": "stream",
     "text": [
      "              precision    recall  f1-score   support\n",
      "\n",
      "           1       0.55      0.50      0.52        22\n",
      "           2       0.44      0.39      0.41        36\n",
      "           3       0.52      0.60      0.56        42\n",
      "\n",
      "    accuracy                           0.50       100\n",
      "   macro avg       0.50      0.49      0.50       100\n",
      "weighted avg       0.50      0.50      0.50       100\n",
      "\n"
     ]
    }
   ],
   "source": [
    "print(classification_report(y_test,y_pred_rf))"
   ]
  },
  {
   "cell_type": "code",
   "execution_count": 40,
   "id": "a7461f38",
   "metadata": {},
   "outputs": [
    {
     "name": "stdout",
     "output_type": "stream",
     "text": [
      "0.5\n"
     ]
    }
   ],
   "source": [
    "print(accuracy_score(y_pred_rf,y_test))"
   ]
  },
  {
   "cell_type": "code",
   "execution_count": 41,
   "id": "a5da27a0",
   "metadata": {},
   "outputs": [
    {
     "data": {
      "text/plain": [
       "DecisionTreeClassifier(criterion='entropy', max_depth=5, random_state=12)"
      ]
     },
     "execution_count": 41,
     "metadata": {},
     "output_type": "execute_result"
    }
   ],
   "source": [
    "from sklearn.tree import DecisionTreeClassifier\n",
    "dt=DecisionTreeClassifier(criterion='entropy',random_state=12,max_depth=5)\n",
    "dt"
   ]
  },
  {
   "cell_type": "code",
   "execution_count": 42,
   "id": "141f4799",
   "metadata": {},
   "outputs": [
    {
     "data": {
      "text/plain": [
       "DecisionTreeClassifier(criterion='entropy', max_depth=5, random_state=12)"
      ]
     },
     "execution_count": 42,
     "metadata": {},
     "output_type": "execute_result"
    }
   ],
   "source": [
    "dt.fit(x_train,y_train)"
   ]
  },
  {
   "cell_type": "code",
   "execution_count": 43,
   "id": "0e02c2d8",
   "metadata": {},
   "outputs": [],
   "source": [
    "y_pred_dt=dt.predict(x_test)"
   ]
  },
  {
   "cell_type": "code",
   "execution_count": 44,
   "id": "e66e1a6f",
   "metadata": {},
   "outputs": [
    {
     "name": "stdout",
     "output_type": "stream",
     "text": [
      "              precision    recall  f1-score   support\n",
      "\n",
      "           1       0.00      0.00      0.00        22\n",
      "           2       0.00      0.00      0.00        36\n",
      "           3       0.42      1.00      0.59        42\n",
      "\n",
      "    accuracy                           0.42       100\n",
      "   macro avg       0.14      0.33      0.20       100\n",
      "weighted avg       0.18      0.42      0.25       100\n",
      "\n"
     ]
    },
    {
     "name": "stderr",
     "output_type": "stream",
     "text": [
      "E:\\anaconda\\lib\\site-packages\\sklearn\\metrics\\_classification.py:1245: UndefinedMetricWarning: Precision and F-score are ill-defined and being set to 0.0 in labels with no predicted samples. Use `zero_division` parameter to control this behavior.\n",
      "  _warn_prf(average, modifier, msg_start, len(result))\n",
      "E:\\anaconda\\lib\\site-packages\\sklearn\\metrics\\_classification.py:1245: UndefinedMetricWarning: Precision and F-score are ill-defined and being set to 0.0 in labels with no predicted samples. Use `zero_division` parameter to control this behavior.\n",
      "  _warn_prf(average, modifier, msg_start, len(result))\n",
      "E:\\anaconda\\lib\\site-packages\\sklearn\\metrics\\_classification.py:1245: UndefinedMetricWarning: Precision and F-score are ill-defined and being set to 0.0 in labels with no predicted samples. Use `zero_division` parameter to control this behavior.\n",
      "  _warn_prf(average, modifier, msg_start, len(result))\n"
     ]
    }
   ],
   "source": [
    "print(classification_report(y_test,y_pred))"
   ]
  },
  {
   "cell_type": "code",
   "execution_count": 56,
   "id": "5818c0a1",
   "metadata": {},
   "outputs": [],
   "source": [
    "from sklearn.ensemble import RandomForestClassifier\n",
    "random_forest_model = RandomForestClassifier(n_estimators=200)\n",
    "random_forest_classifier = random_forest_model.fit(x_train,y_train)"
   ]
  },
  {
   "cell_type": "code",
   "execution_count": 57,
   "id": "c1041d6f",
   "metadata": {},
   "outputs": [
    {
     "name": "stdout",
     "output_type": "stream",
     "text": [
      "Random Forest Clasifier Train Accuracy : 100.0 %\n",
      "\n",
      "Random Forest Clasifier Test Accuracy : 60.0 %\n",
      "-------------------------------------------------------------------------------------------------\n",
      "\n",
      "Classification Report : \n",
      "               precision    recall  f1-score   support\n",
      "\n",
      "           1       0.67      0.55      0.60        22\n",
      "           2       0.53      0.53      0.53        36\n",
      "           3       0.63      0.69      0.66        42\n",
      "\n",
      "    accuracy                           0.60       100\n",
      "   macro avg       0.61      0.59      0.60       100\n",
      "weighted avg       0.60      0.60      0.60       100\n",
      "\n",
      "-------------------------------------------------------------------------------------------------\n",
      "\n",
      " Confusion Matrix :- \n",
      "[[12  7  3]\n",
      " [ 3 19 14]\n",
      " [ 3 10 29]]\n"
     ]
    }
   ],
   "source": [
    "import sklearn\n",
    "y_pred_randomforest = random_forest_model.predict(x_test)\n",
    "print(\"Random Forest Clasifier Train Accuracy : {} %\".format(random_forest_classifier.score(x_train,\n",
    "                                                                                            y_train)*100))\n",
    "print(\"\\nRandom Forest Clasifier Test Accuracy : {} %\".format(sklearn.metrics.accuracy_score(y_test, \n",
    "                                                                                     y_pred_randomforest)*100))\n",
    "print(\"-------------------------------------------------------------------------------------------------\")\n",
    "print(\"\\nClassification Report : \\n {}\".format(sklearn.metrics.classification_report(y_test, \n",
    "                                                                                     y_pred_randomforest)))\n",
    "print(\"-------------------------------------------------------------------------------------------------\")\n",
    "print(\"\\n Confusion Matrix :- \\n{}\".format(sklearn.metrics.confusion_matrix(y_test, \n",
    "                                                                           y_pred_randomforest)))"
   ]
  },
  {
   "cell_type": "code",
   "execution_count": 58,
   "id": "624153c2",
   "metadata": {},
   "outputs": [
    {
     "data": {
      "text/plain": [
       "array([[35,  4,  0, ...,  1,  1,  1],\n",
       "       [27,  4,  0, ...,  2,  1,  1],\n",
       "       [42,  4,  0, ...,  2,  1,  0],\n",
       "       ...,\n",
       "       [30,  4,  0, ...,  0,  1,  1],\n",
       "       [31,  4,  0, ...,  2,  1,  0],\n",
       "       [39,  2,  0, ...,  0,  1,  1]], dtype=int64)"
      ]
     },
     "execution_count": 58,
     "metadata": {},
     "output_type": "execute_result"
    }
   ],
   "source": [
    "x_test.values"
   ]
  },
  {
   "cell_type": "code",
   "execution_count": 59,
   "id": "e15845b5",
   "metadata": {},
   "outputs": [
    {
     "data": {
      "text/plain": [
       "array([2], dtype=int64)"
      ]
     },
     "execution_count": 59,
     "metadata": {},
     "output_type": "execute_result"
    }
   ],
   "source": [
    "a=random_forest_model.predict([[37,1,2,0,1,1,6,0,1,0,1,2,2,2,1,0]])\n",
    "a"
   ]
  },
  {
   "cell_type": "code",
   "execution_count": 61,
   "id": "c813f8a7",
   "metadata": {},
   "outputs": [],
   "source": [
    "import pickle\n",
    "pickle.dump(rdf_clf, open('model.pkl','wb'))\n"
   ]
  },
  {
   "cell_type": "code",
   "execution_count": 62,
   "id": "48f4ce30",
   "metadata": {},
   "outputs": [
    {
     "name": "stdout",
     "output_type": "stream",
     "text": [
      "[2]\n"
     ]
    }
   ],
   "source": [
    "model = pickle.load(open('model.pkl','rb'))\n",
    "print(model.predict([[37,1,2,0,1,1,6,0,1,0,1,2,2,2,1,0]]))"
   ]
  },
  {
   "cell_type": "code",
   "execution_count": 63,
   "id": "74ebcfbd",
   "metadata": {},
   "outputs": [
    {
     "name": "stdout",
     "output_type": "stream",
     "text": [
      " * Serving Flask app \"__main__\" (lazy loading)\n",
      " * Environment: production\n",
      "   WARNING: This is a development server. Do not use it in a production deployment.\n",
      "   Use a production WSGI server instead.\n",
      " * Debug mode: on\n"
     ]
    },
    {
     "name": "stderr",
     "output_type": "stream",
     "text": [
      " * Restarting with windowsapi reloader\n"
     ]
    },
    {
     "ename": "SystemExit",
     "evalue": "1",
     "output_type": "error",
     "traceback": [
      "An exception has occurred, use %tb to see the full traceback.\n",
      "\u001b[1;31mSystemExit\u001b[0m\u001b[1;31m:\u001b[0m 1\n"
     ]
    },
    {
     "name": "stderr",
     "output_type": "stream",
     "text": [
      "E:\\anaconda\\lib\\site-packages\\IPython\\core\\interactiveshell.py:3445: UserWarning: To exit: use 'exit', 'quit', or Ctrl-D.\n",
      "  warn(\"To exit: use 'exit', 'quit', or Ctrl-D.\", stacklevel=1)\n"
     ]
    }
   ],
   "source": [
    "import numpy as np\n",
    "from flask import Flask, request, jsonify, render_template\n",
    "import pickle\n",
    "\n",
    "app = Flask(__name__)\n",
    "model = pickle.load(open('model.pkl', 'rb'))\n",
    "\n",
    "@app.route('/')\n",
    "def home():\n",
    "    return render_template('index.html')\n",
    "\n",
    "@app.route('/predict',methods=['POST'])\n",
    "def predict():\n",
    "\n",
    "    int_features = [int(x) for x in request.form.values()]\n",
    "    final_features = [np.array(int_features)]\n",
    "    prediction = model.predict(final_features)\n",
    "\n",
    "    output = round(prediction[0], 2)\n",
    "\n",
    "    return render_template('index.html', prediction_text='Sales should be $ {}'.format(output))\n",
    "\n",
    "@app.route('/results',methods=['POST'])\n",
    "def results():\n",
    "\n",
    "    data = request.get_json(force=True)\n",
    "    prediction = model.predict([np.array(list(data.values()))])\n",
    "\n",
    "    output = prediction[0]\n",
    "    return jsonify(output)\n",
    "\n",
    "if __name__ == \"__main__\":\n",
    "    app.run(debug=True)"
   ]
  },
  {
   "cell_type": "code",
   "execution_count": null,
   "id": "87dddbe0",
   "metadata": {},
   "outputs": [],
   "source": []
  }
 ],
 "metadata": {
  "kernelspec": {
   "display_name": "Python 3",
   "language": "python",
   "name": "python3"
  },
  "language_info": {
   "codemirror_mode": {
    "name": "ipython",
    "version": 3
   },
   "file_extension": ".py",
   "mimetype": "text/x-python",
   "name": "python",
   "nbconvert_exporter": "python",
   "pygments_lexer": "ipython3",
   "version": "3.8.8"
  }
 },
 "nbformat": 4,
 "nbformat_minor": 5
}
